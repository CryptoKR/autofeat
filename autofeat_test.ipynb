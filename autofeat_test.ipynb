{
 "cells": [
  {
   "cell_type": "code",
   "execution_count": 1,
   "metadata": {},
   "outputs": [],
   "source": [
    "import matplotlib.pyplot as plt\n",
    "import numpy as np\n",
    "import pandas as pd\n",
    "\n",
    "from autofeat import AutoFeatRegression\n",
    "\n",
    "%matplotlib inline\n",
    "%load_ext autoreload\n",
    "%autoreload 2"
   ]
  },
  {
   "cell_type": "markdown",
   "metadata": {},
   "source": [
    "## Toy Dataset"
   ]
  },
  {
   "cell_type": "code",
   "execution_count": 2,
   "metadata": {},
   "outputs": [
    {
     "name": "stdout",
     "output_type": "stream",
     "text": [
      "[AutoFeatRegression] The 3 step feature engineering process could generate up to 3585 features.\n",
      "[AutoFeatRegression] With 1000 data points this new feature matrix would use about 0.01 gb of space.\n",
      "Step 1: transformation of original features\n",
      "             17/              3 done.\n",
      "Step 2: first combination of features\n",
      "            749/            190 done.\n",
      "Step 3: transformation of new features\n",
      "           3487/            749 done.\n"
     ]
    },
    {
     "name": "stderr",
     "output_type": "stream",
     "text": [
      "/Users/franzi/anaconda/envs/python36/lib/python3.6/site-packages/sklearn/preprocessing/data.py:625: DataConversionWarning: Data with input dtype float32 were all converted to float64 by StandardScaler.\n",
      "  return self.partial_fit(X, y)\n",
      "/Users/franzi/anaconda/envs/python36/lib/python3.6/site-packages/sklearn/base.py:462: DataConversionWarning: Data with input dtype float32 were all converted to float64 by StandardScaler.\n",
      "  return self.fit(X, **fit_params).transform(X)\n"
     ]
    },
    {
     "name": "stdout",
     "output_type": "stream",
     "text": [
      "[AutoFeatRegression] Selecting good features in 5 runs\n",
      "iteration   0;   0 good cols with residual: 56.043631\n",
      "iteration   5;  15 good cols with residual: 0.072363  --> done.\n",
      "iteration   0;   0 good cols with residual: 58.602545\n",
      "iteration  10;  33 good cols with residual: 3.794356\n",
      "iteration  16;   6 good cols with residual: 2.523713  --> done.\n",
      "iteration   0;   0 good cols with residual: 57.976666\n",
      "iteration  10;  16 good cols with residual: 11.325143\n",
      "iteration  20;  15 good cols with residual: 10.230298\n",
      "iteration  24;   8 good cols with residual: 1.362320  --> done.\n",
      "iteration   0;   0 good cols with residual: 55.858241\n",
      "iteration   4;   9 good cols with residual: 0.236546  --> done.\n",
      "iteration   0;   0 good cols with residual: 55.238069\n",
      "iteration  10;  14 good cols with residual: 8.090101\n",
      "iteration  19;   8 good cols with residual: 3.109791  --> done.\n",
      "[AutoFeatRegression] 10 features occurred in more than one featsel run.\n",
      "[AutoFeatRegression] 4 new features selected.\n",
      "[AutoFeatRegression] Computing 4 new features.\n",
      "[AutoFeatRegression]     4/    4 ...done.\n",
      "[AutoFeatRegression] Training final regression model.\n",
      "[AutoFeatRegression] Trained model coefficients:\n",
      "2.0000000000000497\n",
      "15.000000 * x10\n",
      "5.000000 * (x11 + log(x10))**3\n",
      "-3.000000 * 1/(-x11 + 1/x12)\n",
      "[AutoFeatRegression] Final R^2: 1.0000\n",
      "[AutoFeatRegression] Final dataframe with 5 feature columns (2 new).\n"
     ]
    }
   ],
   "source": [
    "# generate some toy data\n",
    "np.random.seed(15)\n",
    "x1 = np.random.rand(1000)\n",
    "x2 = np.random.randn(1000)\n",
    "x3 = np.random.rand(1000)\n",
    "target = 2 + 15*x1 + 3/(x2 - 1/x3) + 5*(x2 + np.log(x1))**3\n",
    "X = np.vstack([x1, x2, x3]).T\n",
    "# autofeat!\n",
    "afreg = AutoFeatRegression()\n",
    "df = afreg.fit_transform(X, target)"
   ]
  },
  {
   "cell_type": "code",
   "execution_count": 3,
   "metadata": {},
   "outputs": [
    {
     "name": "stdout",
     "output_type": "stream",
     "text": [
      "Final R^2: 1.0000\n"
     ]
    },
    {
     "data": {
      "image/png": "[encoded data removed]",
      "text/plain": [
       "<Figure size 432x288 with 1 Axes>"
      ]
     },
     "metadata": {},
     "output_type": "display_data"
    }
   ],
   "source": [
    "print(\"Final R^2: %.4f\" % afreg.score(df, target))\n",
    "plt.plot(afreg.predict(df), target);"
   ]
  },
  {
   "cell_type": "code",
   "execution_count": null,
   "metadata": {},
   "outputs": [],
   "source": []
  }
 ],
 "metadata": {
  "kernelspec": {
   "display_name": "Python 3",
   "language": "python",
   "name": "python3"
  },
  "language_info": {
   "codemirror_mode": {
    "name": "ipython",
    "version": 3
   },
   "file_extension": ".py",
   "mimetype": "text/x-python",
   "name": "python",
   "nbconvert_exporter": "python",
   "pygments_lexer": "ipython3",
   "version": "3.6.4"
  }
 },
 "nbformat": 4,
 "nbformat_minor": 2
}
