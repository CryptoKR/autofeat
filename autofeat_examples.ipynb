{
 "cells": [
  {
   "cell_type": "code",
   "execution_count": 1,
   "metadata": {},
   "outputs": [],
   "source": [
    "import matplotlib.pyplot as plt\n",
    "import numpy as np\n",
    "import pandas as pd\n",
    "\n",
    "from autofeat import FeatureSelector, AutoFeatRegression\n",
    "\n",
    "%matplotlib inline\n",
    "%load_ext autoreload\n",
    "%autoreload 2"
   ]
  },
  {
   "cell_type": "markdown",
   "metadata": {},
   "source": [
    "## Feature Selection"
   ]
  },
  {
   "cell_type": "code",
   "execution_count": 2,
   "metadata": {},
   "outputs": [
    {
     "name": "stdout",
     "output_type": "stream",
     "text": [
      "[featsel] Scaling data...done.\n",
      "[featsel] 4/7 features after univariate filtering\n",
      "[featsel] Feature selection run 1/3\n",
      "[featsel] Feature selection run 2/3\n",
      "[featsel] Feature selection run 3/3\n",
      "[featsel] 3 features after 3 feature selection runs\n",
      "[featsel] 3 features after correlation filtering\n",
      "[featsel] 3 features after noise filtering\n",
      "[featsel] 3 final features selected (including 0 original keep features).\n",
      "Index(['x1', 'eng7', 'eng6'], dtype='object')\n"
     ]
    }
   ],
   "source": [
    "# generate some toy data\n",
    "np.random.seed(10)\n",
    "x1 = np.random.rand(1000)\n",
    "x2 = np.random.randn(1000)\n",
    "x3 = np.random.rand(1000)\n",
    "x4 = np.random.randn(1000)\n",
    "x5 = np.random.rand(1000)\n",
    "target = 2 + 15*x1 + 3/(x2 - 1/x3) + 5*(x2 + np.log(x1))**3\n",
    "X = np.vstack([x1, x2, x3, x4, x5, 1/(x2 - 1/x3), (x2 + np.log(x1))**3]).T\n",
    "fsel = FeatureSelector(verbose=1)\n",
    "new_X = fsel.fit_transform(pd.DataFrame(X, columns=[\"x1\", \"x2\", \"x3\", \"x4\", \"x5\", \"eng6\", \"eng7\"]), target)\n",
    "# should contain [\"x1\", \"eng6\", \"eng7\"]\n",
    "print(new_X.columns)"
   ]
  },
  {
   "cell_type": "markdown",
   "metadata": {},
   "source": [
    "## AutoFeat"
   ]
  },
  {
   "cell_type": "code",
   "execution_count": 3,
   "metadata": {},
   "outputs": [],
   "source": [
    "# generate some toy data\n",
    "np.random.seed(10)\n",
    "x1 = np.random.rand(1000)\n",
    "x2 = np.random.randn(1000)\n",
    "x3 = np.random.rand(1000)\n",
    "target = 2 + 15*x1 + 3/(x2 - 1/x3) + 5*(x2 + np.log(x1))**3\n",
    "target_noisy = target + 0.01*target.std()*np.random.randn(1000)\n",
    "X = np.vstack([x1, x2, x3]).T\n",
    "df_org = pd.DataFrame(X, columns=[\"x1\", \"x2\", \"x3\"])"
   ]
  },
  {
   "cell_type": "markdown",
   "metadata": {},
   "source": [
    "### Effect of number of feature engineering steps"
   ]
  },
  {
   "cell_type": "code",
   "execution_count": 4,
   "metadata": {},
   "outputs": [
    {
     "name": "stdout",
     "output_type": "stream",
     "text": [
      "### AutoFeat with 0 feateng_steps\n",
      "[AutoFeatRegression] The 0 step feature engineering process could generate up to 3 features.\n",
      "[AutoFeatRegression] With 1000 data points this new feature matrix would use about 0.00 gb of space.\n",
      "[feateng] Warning: no features generated for max_steps < 1.\n",
      "[featsel] Scaling data...done.\n",
      "[featsel] 3/3 features after univariate filtering\n",
      "[featsel] Feature selection run 1/3\n",
      "[featsel] Feature selection run 2/3\n",
      "[featsel] Feature selection run 3/3\n",
      "[featsel] 3 features after 3 feature selection runs\n",
      "[featsel] 3 features after correlation filtering\n",
      "[featsel] 2 features after noise filtering\n",
      "[featsel] 3 final features selected (including 3 original keep features).\n",
      "[AutoFeatRegression] Training final regression model.\n",
      "[AutoFeatRegression] Trained model: largest coefficients:\n",
      "-136.04982405923715\n",
      "196.648874 * x1\n",
      "36.246586 * x2\n",
      "[AutoFeatRegression] Final R^2: 0.3279\n",
      "[AutoFeatRegression] Final dataframe with 3 feature columns (0 new).\n",
      "## Final R^2: 0.3279\n",
      "### AutoFeat with 1 feateng_steps\n",
      "[AutoFeatRegression] The 1 step feature engineering process could generate up to 21 features.\n",
      "[AutoFeatRegression] With 1000 data points this new feature matrix would use about 0.00 gb of space.\n",
      "[feateng] Step 1: transformation of original features\n",
      "[feateng] Generated 17 transformed features from 3 original features - done.\n",
      "[feateng] Generated a total of 17 additional features\n",
      "[featsel] Scaling data...done.\n",
      "[featsel] 13/20 features after univariate filtering\n",
      "[featsel] Feature selection run 1/3\n",
      "[featsel] Feature selection run 2/3\n",
      "[featsel] Feature selection run 3/3\n",
      "[featsel] 12 features after 3 feature selection runs\n",
      "[featsel] 8 features after correlation filtering\n",
      "[featsel] 6 features after noise filtering\n",
      "[featsel] 7 final features selected (including 3 original keep features).\n",
      "[AutoFeatRegression] Computing 4 new features.\n",
      "[AutoFeatRegression]     4/    4 new features ...done.\n",
      "[AutoFeatRegression] Training final regression model.\n",
      "[AutoFeatRegression] Trained model: largest coefficients:\n",
      "195.115274526727\n",
      "-178.558463 * x1\n",
      "114.862427 * log(x1)\n",
      "31.917694 * x2\n",
      "-15.106653 * x2**2\n",
      "-8.398341 * x3\n",
      "3.805695 * x2**3\n",
      "-1.105398 * 1/x1\n",
      "[AutoFeatRegression] Final R^2: 0.7512\n",
      "[AutoFeatRegression] Final dataframe with 7 feature columns (4 new).\n",
      "[AutoFeatRegression] Computing 4 new features.\n",
      "[AutoFeatRegression]     4/    4 new features ...done.\n",
      "## Final R^2: 0.7512\n",
      "[AutoFeatRegression] Computing 4 new features.\n",
      "[AutoFeatRegression]     4/    4 new features ...done.\n",
      "### AutoFeat with 2 feateng_steps\n",
      "[AutoFeatRegression] The 2 step feature engineering process could generate up to 231 features.\n",
      "[AutoFeatRegression] With 1000 data points this new feature matrix would use about 0.00 gb of space.\n",
      "[feateng] Step 1: transformation of original features\n",
      "[feateng] Generated 17 transformed features from 3 original features - done.\n",
      "[feateng] Step 2: first combination of features\n",
      "[feateng] Generated 749 feature combinations from 190 original feature tuples - done.\n",
      "[feateng] Generated a total of 196 additional features\n",
      "[featsel] Scaling data...done.\n",
      "[featsel] 156/199 features after univariate filtering\n",
      "[featsel] Feature selection run 1/3\n",
      "[featsel] Feature selection run 2/3\n",
      "[featsel] Feature selection run 3/3\n",
      "[featsel] 41 features after 3 feature selection runs\n",
      "[featsel] 28 features after correlation filtering\n",
      "[featsel] 20 features after noise filtering\n",
      "[featsel] 22 final features selected (including 3 original keep features).\n",
      "[AutoFeatRegression] Computing 19 new features.\n",
      "[AutoFeatRegression]    19/   19 new features ...done.\n",
      "[AutoFeatRegression] Training final regression model.\n",
      "[AutoFeatRegression] Trained model: largest coefficients:\n",
      "138.2576353122186\n",
      "243.987209 * x1**2*log(x1)\n",
      "-59.964981 * 1/sqrt(x1)\n",
      "-58.687654 * x1**5\n",
      "-48.196793 * x2*log(x1)\n",
      "44.554720 * x1**3*x2\n",
      "-30.930432 * x2\n",
      "-29.042110 * x3*Abs(x2)\n",
      "19.890239 * x3**3*Abs(x2)\n",
      "-10.797129 * sqrt(x1)*x3**2\n",
      "-9.190700 * x2*x3\n",
      "9.048805 * x2**2*log(x1)\n",
      "6.836801 * x1**3*x2**2\n",
      "2.582182 * x3\n",
      "2.125029 * x1**3*exp(x2)\n",
      "1.672158 * x2**3*Abs(x2)\n",
      "1.253473 * x2**2*log(x3)\n",
      "1.145088 * x2/x1\n",
      "0.787107 * exp(x2)*log(x3)\n",
      "-0.400649 * x2**2/x1\n",
      "0.141012 * x2**3/x1\n",
      "-0.106073 * exp(x1)/x1\n",
      "[AutoFeatRegression] Final R^2: 0.9470\n",
      "[AutoFeatRegression] Final dataframe with 22 feature columns (19 new).\n",
      "[AutoFeatRegression] Computing 19 new features.\n",
      "[AutoFeatRegression]    19/   19 new features ...done.\n",
      "## Final R^2: 0.9470\n",
      "[AutoFeatRegression] Computing 19 new features.\n",
      "[AutoFeatRegression]    19/   19 new features ...done.\n",
      "### AutoFeat with 3 feateng_steps\n",
      "[AutoFeatRegression] The 3 step feature engineering process could generate up to 5271 features.\n",
      "[AutoFeatRegression] With 1000 data points this new feature matrix would use about 0.02 gb of space.\n",
      "[feateng] Step 1: transformation of original features\n",
      "[feateng] Generated 17 transformed features from 3 original features - done.\n",
      "[feateng] Step 2: first combination of features\n",
      "[feateng] Generated 749 feature combinations from 190 original feature tuples - done.\n",
      "[feateng] Step 3: transformation of new features\n",
      "[feateng] Generated 3498 transformed features from 749 original features - done.\n",
      "[feateng] Generated a total of 3694 additional features\n",
      "[featsel] Scaling data...done.\n",
      "[featsel] 2473/3697 features after univariate filtering\n",
      "[featsel] Feature selection run 1/3\n",
      "[featsel] Feature selection run 2/3\n",
      "[featsel] Feature selection run 3/3\n",
      "[featsel] 6 features after 3 feature selection runs\n",
      "[featsel] 5 features after correlation filtering\n",
      "[featsel] 3 features after noise filtering\n",
      "[featsel] 5 final features selected (including 3 original keep features).\n",
      "[AutoFeatRegression] Computing 2 new features.\n",
      "[AutoFeatRegression]     2/    2 new features ...done.\n",
      "[AutoFeatRegression] Training final regression model.\n",
      "[AutoFeatRegression] Trained model: largest coefficients:\n",
      "2.000000000000142\n",
      "15.000000 * x1\n",
      "5.000000 * (x2 + log(x1))**3\n",
      "-3.000000 * 1/(-x2 + 1/x3)\n",
      "[AutoFeatRegression] Final R^2: 1.0000\n",
      "[AutoFeatRegression] Final dataframe with 5 feature columns (2 new).\n",
      "[AutoFeatRegression] Computing 2 new features.\n",
      "[AutoFeatRegression]     2/    2 new features ...done.\n",
      "## Final R^2: 1.0000\n",
      "[AutoFeatRegression] Computing 2 new features.\n",
      "[AutoFeatRegression]     2/    2 new features ...done.\n",
      "### AutoFeat with 4 feateng_steps\n",
      "[AutoFeatRegression] The 4 step feature engineering process could generate up to 128751 features.\n",
      "[AutoFeatRegression] With 1000 data points this new feature matrix would use about 0.52 gb of space.\n",
      "[feateng] Step 1: transformation of original features\n",
      "[feateng] Generated 17 transformed features from 3 original features - done.\n",
      "[feateng] Step 2: first combination of features\n",
      "[feateng] Generated 749 feature combinations from 190 original feature tuples - done.\n",
      "[feateng] Step 3: transformation of new features\n",
      "[feateng] Generated 3498 transformed features from 749 original features - done.\n",
      "[feateng] Step 4: combination of old and new features\n",
      "[feateng] Generated 309527 feature combinations from 84940 original feature tuples - done.\n",
      "[feateng] Generated a total of 83541 additional features\n",
      "[featsel] Scaling data...done.\n",
      "[featsel] 59643/83544 features after univariate filtering\n",
      "[featsel] Feature selection run 1/3\n",
      "[featsel] Feature selection run 2/3\n",
      "[featsel] Feature selection run 3/3\n",
      "[featsel] 18 features after 3 feature selection runs\n",
      "[featsel] 8 features after correlation filtering\n",
      "[featsel] 4 features after noise filtering\n",
      "[featsel] 6 final features selected (including 3 original keep features).\n",
      "[AutoFeatRegression] Computing 3 new features.\n",
      "[AutoFeatRegression]     3/    3 new features ...done.\n",
      "[AutoFeatRegression] Training final regression model.\n",
      "[AutoFeatRegression] Trained model: largest coefficients:\n",
      "2.0000000000007176\n",
      "15.000000 * x1\n",
      "5.000000 * (x2 + log(x1))**3\n",
      "3.000000 * 1/(x2 - 1/x3)\n",
      "[AutoFeatRegression] Final R^2: 1.0000\n",
      "[AutoFeatRegression] Final dataframe with 6 feature columns (3 new).\n",
      "[AutoFeatRegression] Computing 3 new features.\n",
      "[AutoFeatRegression]     3/    3 new features ...done.\n",
      "## Final R^2: 1.0000\n",
      "[AutoFeatRegression] Computing 3 new features.\n",
      "[AutoFeatRegression]     3/    3 new features ...done.\n"
     ]
    },
    {
     "data": {
      "image/png": "[encoded data removed]",
      "text/plain": [
       "<Figure size 432x288 with 1 Axes>"
      ]
     },
     "metadata": {
      "needs_background": "light"
     },
     "output_type": "display_data"
    },
    {
     "data": {
      "image/png": "[encoded data removed]",
      "text/plain": [
       "<Figure size 432x288 with 1 Axes>"
      ]
     },
     "metadata": {
      "needs_background": "light"
     },
     "output_type": "display_data"
    },
    {
     "data": {
      "image/png": "[encoded data removed]",
      "text/plain": [
       "<Figure size 432x288 with 1 Axes>"
      ]
     },
     "metadata": {
      "needs_background": "light"
     },
     "output_type": "display_data"
    },
    {
     "data": {
      "image/png": "[encoded data removed]",
      "text/plain": [
       "<Figure size 432x288 with 1 Axes>"
      ]
     },
     "metadata": {
      "needs_background": "light"
     },
     "output_type": "display_data"
    },
    {
     "data": {
      "image/png": "[encoded data removed]",
      "text/plain": [
       "<Figure size 432x288 with 1 Axes>"
      ]
     },
     "metadata": {
      "needs_background": "light"
     },
     "output_type": "display_data"
    }
   ],
   "source": [
    "# autofeat with different number of feature engineering steps\n",
    "# 3 are perfect\n",
    "for steps in range(5):\n",
    "    print(\"### AutoFeat with %i feateng_steps\" % steps)\n",
    "    afreg = AutoFeatRegression(verbose=1, feateng_steps=steps)\n",
    "    df = afreg.fit_transform(df_org, target)\n",
    "    r2 = afreg.score(df_org, target)\n",
    "    print(\"## Final R^2: %.4f\" % r2)\n",
    "    plt.figure()\n",
    "    plt.scatter(afreg.predict(df_org), target, s=2);\n",
    "    plt.title(\"%i feateng steps (R^2: %.4f)\" % (steps, r2))"
   ]
  },
  {
   "cell_type": "markdown",
   "metadata": {},
   "source": [
    "### AutoFeat and noise"
   ]
  },
  {
   "cell_type": "code",
   "execution_count": 5,
   "metadata": {},
   "outputs": [
    {
     "name": "stdout",
     "output_type": "stream",
     "text": [
      "[AutoFeatRegression] The 3 step feature engineering process could generate up to 5271 features.\n",
      "[AutoFeatRegression] With 1000 data points this new feature matrix would use about 0.02 gb of space.\n",
      "[feateng] Step 1: transformation of original features\n",
      "[feateng] Generated 17 transformed features from 3 original features - done.\n",
      "[feateng] Step 2: first combination of features\n",
      "[feateng] Generated 749 feature combinations from 190 original feature tuples - done.\n",
      "[feateng] Step 3: transformation of new features\n",
      "[feateng] Generated 3498 transformed features from 749 original features - done.\n",
      "[feateng] Generated a total of 3694 additional features\n",
      "[featsel] Scaling data...done.\n",
      "[featsel] 2473/3697 features after univariate filtering\n",
      "[featsel] Feature selection run 1/3\n",
      "[featsel] Feature selection run 2/3\n",
      "[featsel] Feature selection run 3/3\n",
      "[featsel] 12 features after 3 feature selection runs\n",
      "[featsel] 6 features after correlation filtering\n",
      "[featsel] 4 features after noise filtering\n",
      "[featsel] 5 final features selected (including 3 original keep features).\n",
      "[AutoFeatRegression] Computing 2 new features.\n",
      "[AutoFeatRegression]     2/    2 new features ...done.\n",
      "[AutoFeatRegression] Training final regression model.\n",
      "[AutoFeatRegression] Trained model: largest coefficients:\n",
      "2.242328650689558\n",
      "14.807654 * x1\n",
      "5.001091 * (x2 + log(x1))**3\n",
      "-3.004379 * 1/(-x2 + 1/x3)\n",
      "-0.355767 * x3\n",
      "-0.044548 * x2\n",
      "[AutoFeatRegression] Final R^2: 0.9999\n",
      "[AutoFeatRegression] Final dataframe with 5 feature columns (2 new).\n",
      "Final R^2: 1.0000\n"
     ]
    },
    {
     "data": {
      "image/png": "[encoded data removed]",
      "text/plain": [
       "<Figure size 432x288 with 1 Axes>"
      ]
     },
     "metadata": {
      "needs_background": "light"
     },
     "output_type": "display_data"
    }
   ],
   "source": [
    "afreg = AutoFeatRegression(verbose=1, feateng_steps=3)\n",
    "# train on noisy data\n",
    "df = afreg.fit_transform(df_org, target_noisy)\n",
    "# test on real targets\n",
    "print(\"Final R^2: %.4f\" % afreg.score(df, target))\n",
    "plt.figure()\n",
    "plt.scatter(afreg.predict(df), target, s=2);"
   ]
  },
  {
   "cell_type": "code",
   "execution_count": null,
   "metadata": {},
   "outputs": [],
   "source": []
  }
 ],
 "metadata": {
  "kernelspec": {
   "display_name": "Python 3",
   "language": "python",
   "name": "python3"
  },
  "language_info": {
   "codemirror_mode": {
    "name": "ipython",
    "version": 3
   },
   "file_extension": ".py",
   "mimetype": "text/x-python",
   "name": "python",
   "nbconvert_exporter": "python",
   "pygments_lexer": "ipython3",
   "version": "3.7.3"
  }
 },
 "nbformat": 4,
 "nbformat_minor": 2
}
