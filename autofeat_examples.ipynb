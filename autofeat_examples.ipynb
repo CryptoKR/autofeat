{
 "cells": [
  {
   "cell_type": "code",
   "execution_count": 1,
   "metadata": {},
   "outputs": [],
   "source": [
    "import matplotlib.pyplot as plt\n",
    "import numpy as np\n",
    "import pandas as pd\n",
    "\n",
    "from autofeat import FeatureSelector, AutoFeatRegression\n",
    "\n",
    "%matplotlib inline\n",
    "%load_ext autoreload\n",
    "%autoreload 2"
   ]
  },
  {
   "cell_type": "markdown",
   "metadata": {},
   "source": [
    "## Feature Selection"
   ]
  },
  {
   "cell_type": "code",
   "execution_count": 2,
   "metadata": {},
   "outputs": [
    {
     "name": "stdout",
     "output_type": "stream",
     "text": [
      "[featsel] Scaling data...done.\n",
      "[featsel] Feature selection run 1/5\n",
      "[featsel] Feature selection run 2/5\n",
      "[featsel] Feature selection run 3/5\n",
      "[featsel] Feature selection run 4/5\n",
      "[featsel] Feature selection run 5/5\n",
      "[featsel] 3 new features selected.\n",
      "Index(['x1', 'eng7', 'eng6'], dtype='object')\n"
     ]
    }
   ],
   "source": [
    "# generate some toy data\n",
    "np.random.seed(15)\n",
    "x1 = np.random.rand(1000)\n",
    "x2 = np.random.randn(1000)\n",
    "x3 = np.random.rand(1000)\n",
    "x4 = np.random.randn(1000)\n",
    "x5 = np.random.rand(1000)\n",
    "target = 2 + 15*x1 + 3/(x2 - 1/x3) + 5*(x2 + np.log(x1))**3\n",
    "X = np.vstack([x1, x2, x3, x4, x5, 1/(x2 - 1/x3), (x2 + np.log(x1))**3]).T\n",
    "fsel = FeatureSelector(verbose=1)\n",
    "new_X = fsel.fit_transform(pd.DataFrame(X, columns=[\"x1\", \"x2\", \"x3\", \"x4\", \"x5\", \"eng6\", \"eng7\"]), target)\n",
    "# should contain [\"x1\", \"eng6\", \"eng7\"]\n",
    "print(new_X.columns)"
   ]
  },
  {
   "cell_type": "markdown",
   "metadata": {},
   "source": [
    "## AutoFeat"
   ]
  },
  {
   "cell_type": "code",
   "execution_count": 3,
   "metadata": {},
   "outputs": [],
   "source": [
    "# generate some toy data\n",
    "np.random.seed(15)\n",
    "x1 = np.random.rand(1000)\n",
    "x2 = np.random.randn(1000)\n",
    "x3 = np.random.rand(1000)\n",
    "target = 2 + 15*x1 + 3/(x2 - 1/x3) + 5*(x2 + np.log(x1))**3\n",
    "target_noisy = target + 0.2*np.random.randn(1000)\n",
    "X = np.vstack([x1, x2, x3]).T\n",
    "df_org = pd.DataFrame(X, columns=[\"x1\", \"x2\", \"x3\"])"
   ]
  },
  {
   "cell_type": "markdown",
   "metadata": {},
   "source": [
    "### Effect of number of feature engineering steps"
   ]
  },
  {
   "cell_type": "code",
   "execution_count": 4,
   "metadata": {},
   "outputs": [
    {
     "name": "stdout",
     "output_type": "stream",
     "text": [
      "### AutoFeat with 0 feateng_steps\n",
      "[AutoFeatRegression] The 0 step feature engineering process could generate up to 3 features.\n",
      "[AutoFeatRegression] With 1000 data points this new feature matrix would use about 0.00 gb of space.\n",
      "[feateng] Warning: no features generated for max_steps < 1.\n",
      "[featsel] Scaling data...done.\n",
      "[featsel] Feature selection run 1/5\n",
      "[featsel] Feature selection run 2/5\n",
      "[featsel] Feature selection run 3/5\n",
      "[featsel] Feature selection run 4/5\n",
      "[featsel] Feature selection run 5/5\n",
      "[featsel] 2 new features selected.\n",
      "[AutoFeatRegression] Training final regression model.\n",
      "[AutoFeatRegression] Trained model: largest coefficients:\n",
      "-149.8110972151635\n",
      "219.961135 * x1\n",
      "34.719760 * x2\n",
      "[AutoFeatRegression] Final R^2: 0.2133\n",
      "[AutoFeatRegression] Final dataframe with 3 feature columns (0 new).\n",
      "## Final R^2: 0.2133\n",
      "### AutoFeat with 1 feateng_steps\n",
      "[AutoFeatRegression] The 1 step feature engineering process could generate up to 21 features.\n",
      "[AutoFeatRegression] With 1000 data points this new feature matrix would use about 0.00 gb of space.\n",
      "[feateng] Step 1: transformation of original features\n",
      "[feateng] Generated 17 transformed features from 3 original features - done.\n",
      "[feateng] Generated a total of 17 additional features\n",
      "[featsel] Scaling data...done.\n",
      "[featsel] Feature selection run 1/5\n",
      "[featsel] Feature selection run 2/5\n",
      "[featsel] Feature selection run 3/5\n",
      "[featsel] Feature selection run 4/5\n",
      "[featsel] Feature selection run 5/5\n",
      "[featsel] 12 new features selected.\n",
      "[AutoFeatRegression] Computing 10 new features.\n",
      "[AutoFeatRegression]    10/   10 new features ...done.\n",
      "[AutoFeatRegression] Training final regression model.\n",
      "[AutoFeatRegression] Trained model: largest coefficients:\n",
      "321.93330035348833\n",
      "-442.928600 * x1\n",
      "165.853052 * log(x1)\n",
      "156.948041 * x1**3\n",
      "55.779041 * sqrt(x3)\n",
      "-37.463363 * x3\n",
      "22.803718 * x2\n",
      "-22.434763 * Abs(x2)\n",
      "-11.755956 * x3**2\n",
      "6.427838 * x2**3\n",
      "-2.983961 * x2**2\n",
      "-0.880113 * exp(x2)\n",
      "-0.476668 * 1/x1\n",
      "0.035872 * 1/x3\n",
      "[AutoFeatRegression] Final R^2: 0.5435\n",
      "[AutoFeatRegression] Final dataframe with 13 feature columns (10 new).\n",
      "[AutoFeatRegression] Computing 10 new features.\n",
      "[AutoFeatRegression]    10/   10 new features ...done.\n",
      "## Final R^2: 0.5435\n",
      "[AutoFeatRegression] Computing 10 new features.\n",
      "[AutoFeatRegression]    10/   10 new features ...done.\n",
      "### AutoFeat with 2 feateng_steps\n",
      "[AutoFeatRegression] The 2 step feature engineering process could generate up to 231 features.\n",
      "[AutoFeatRegression] With 1000 data points this new feature matrix would use about 0.00 gb of space.\n",
      "[feateng] Step 1: transformation of original features\n",
      "[feateng] Generated 17 transformed features from 3 original features - done.\n",
      "[feateng] Step 2: first combination of features\n",
      "[feateng] Generated 749 feature combinations from 190 original feature tuples - done.\n",
      "[feateng] Generated a total of 196 additional features\n",
      "[featsel] Scaling data...done.\n",
      "[featsel] Feature selection run 1/5\n",
      "[featsel] Feature selection run 2/5\n",
      "[featsel] Feature selection run 3/5\n",
      "[featsel] Feature selection run 4/5\n",
      "[featsel] Feature selection run 5/5\n",
      "[featsel] 7 new features selected.\n",
      "[AutoFeatRegression] Computing 7 new features.\n",
      "[AutoFeatRegression]     7/    7 new features ...done.\n",
      "[AutoFeatRegression] Training final regression model.\n",
      "[AutoFeatRegression] Trained model: largest coefficients:\n",
      "140.20787927761575\n",
      "-70.827437 * x1\n",
      "-59.177403 * 1/sqrt(x1)\n",
      "-38.043228 * x2*log(x1)\n",
      "16.762193 * log(x1)*Abs(x2)\n",
      "-14.576580 * x2\n",
      "-12.985934 * x3\n",
      "8.057403 * x2**2*log(x1)\n",
      "0.767698 * x2/x1\n",
      "-0.760366 * x2**3*log(x1)\n",
      "0.597162 * x2**5\n",
      "[AutoFeatRegression] Final R^2: 0.6611\n",
      "[AutoFeatRegression] Final dataframe with 10 feature columns (7 new).\n",
      "[AutoFeatRegression] Computing 7 new features.\n",
      "[AutoFeatRegression]     7/    7 new features ...done.\n",
      "## Final R^2: 0.6611\n",
      "[AutoFeatRegression] Computing 7 new features.\n",
      "[AutoFeatRegression]     7/    7 new features ...done.\n",
      "### AutoFeat with 3 feateng_steps\n",
      "[AutoFeatRegression] The 3 step feature engineering process could generate up to 5271 features.\n",
      "[AutoFeatRegression] With 1000 data points this new feature matrix would use about 0.02 gb of space.\n",
      "[feateng] Step 1: transformation of original features\n",
      "[feateng] Generated 17 transformed features from 3 original features - done.\n",
      "[feateng] Step 2: first combination of features\n",
      "[feateng] Generated 749 feature combinations from 190 original feature tuples - done.\n",
      "[feateng] Step 3: transformation of new features\n",
      "[feateng] Generated 3487 transformed features from 749 original features - done.\n",
      "[feateng] Generated a total of 3683 additional features\n",
      "[featsel] Scaling data...done.\n",
      "[featsel] Feature selection run 1/5\n",
      "[featsel] Feature selection run 2/5\n",
      "[featsel] Feature selection run 3/5\n",
      "[featsel] Feature selection run 4/5\n",
      "[featsel] Feature selection run 5/5\n",
      "[featsel] 4 new features selected.\n",
      "[AutoFeatRegression] Computing 4 new features.\n",
      "[AutoFeatRegression]     4/    4 new features ...done.\n",
      "[AutoFeatRegression] Training final regression model.\n",
      "[AutoFeatRegression] Trained model: largest coefficients:\n",
      "2.0000000000180904\n",
      "15.000000 * x1\n",
      "5.000000 * (x2 + log(x1))**3\n",
      "3.000000 * 1/(x2 - 1/x3)\n",
      "[AutoFeatRegression] Final R^2: 1.0000\n",
      "[AutoFeatRegression] Final dataframe with 7 feature columns (4 new).\n",
      "[AutoFeatRegression] Computing 4 new features.\n",
      "[AutoFeatRegression]     4/    4 new features ...done.\n",
      "## Final R^2: 1.0000\n",
      "[AutoFeatRegression] Computing 4 new features.\n",
      "[AutoFeatRegression]     4/    4 new features ...done.\n",
      "### AutoFeat with 4 feateng_steps\n",
      "[AutoFeatRegression] The 4 step feature engineering process could generate up to 128751 features.\n",
      "[AutoFeatRegression] With 1000 data points this new feature matrix would use about 0.52 gb of space.\n",
      "[feateng] Step 1: transformation of original features\n",
      "[feateng] Generated 17 transformed features from 3 original features - done.\n",
      "[feateng] Step 2: first combination of features\n",
      "[feateng] Generated 749 feature combinations from 190 original feature tuples - done.\n",
      "[feateng] Step 3: transformation of new features\n",
      "[feateng] Generated 3487 transformed features from 749 original features - done.\n",
      "[feateng] Step 4: combination of old and new features\n",
      "[feateng] Generated 308647 feature combinations from 84720 original feature tuples - done.\n",
      "[feateng] Generated a total of 83310 additional features\n",
      "[featsel] Scaling data...done.\n",
      "[featsel] Feature selection run 1/5\n",
      "[featsel] Feature selection run 2/5\n",
      "[featsel] Feature selection run 3/5\n",
      "[featsel] Feature selection run 4/5\n",
      "[featsel] Feature selection run 5/5\n",
      "[featsel] 8 new features selected.\n",
      "[AutoFeatRegression] Computing 8 new features.\n",
      "[AutoFeatRegression]     8/    8 new features ...done.\n",
      "[AutoFeatRegression] Training final regression model.\n",
      "[AutoFeatRegression] Trained model: largest coefficients:\n",
      "2.000000000008285\n",
      "15.000000 * x1\n",
      "5.000000 * (x2 + log(x1))**3\n",
      "-3.000000 * 1/(-x2 + 1/x3)\n",
      "[AutoFeatRegression] Final R^2: 1.0000\n",
      "[AutoFeatRegression] Final dataframe with 11 feature columns (8 new).\n",
      "[AutoFeatRegression] Computing 8 new features.\n",
      "[AutoFeatRegression]     8/    8 new features ...done.\n",
      "## Final R^2: 1.0000\n",
      "[AutoFeatRegression] Computing 8 new features.\n",
      "[AutoFeatRegression]     8/    8 new features ...done.\n"
     ]
    },
    {
     "data": {
      "image/png": "[encoded data removed]",
      "text/plain": [
       "<Figure size 432x288 with 1 Axes>"
      ]
     },
     "metadata": {},
     "output_type": "display_data"
    },
    {
     "data": {
      "image/png": "[encoded data removed]",
      "text/plain": [
       "<Figure size 432x288 with 1 Axes>"
      ]
     },
     "metadata": {},
     "output_type": "display_data"
    },
    {
     "data": {
      "image/png": "[encoded data removed]",
      "text/plain": [
       "<Figure size 432x288 with 1 Axes>"
      ]
     },
     "metadata": {},
     "output_type": "display_data"
    },
    {
     "data": {
      "image/png": "[encoded data removed]",
      "text/plain": [
       "<Figure size 432x288 with 1 Axes>"
      ]
     },
     "metadata": {},
     "output_type": "display_data"
    },
    {
     "data": {
      "image/png": "[encoded data removed]",
      "text/plain": [
       "<Figure size 432x288 with 1 Axes>"
      ]
     },
     "metadata": {},
     "output_type": "display_data"
    }
   ],
   "source": [
    "# autofeat with different number of feature engineering steps\n",
    "# 3 are perfect\n",
    "for steps in range(5):\n",
    "    print(\"### AutoFeat with %i feateng_steps\" % steps)\n",
    "    afreg = AutoFeatRegression(verbose=1, feateng_steps=steps)\n",
    "    df = afreg.fit_transform(df_org, target)\n",
    "    r2 = afreg.score(df_org, target)\n",
    "    print(\"## Final R^2: %.4f\" % r2)\n",
    "    plt.figure()\n",
    "    plt.scatter(afreg.predict(df_org), target, s=2);\n",
    "    plt.title(\"%i feateng steps (R^2: %.4f)\" % (steps, r2))"
   ]
  },
  {
   "cell_type": "markdown",
   "metadata": {},
   "source": [
    "### AutoFeat and noise"
   ]
  },
  {
   "cell_type": "code",
   "execution_count": 5,
   "metadata": {},
   "outputs": [
    {
     "name": "stdout",
     "output_type": "stream",
     "text": [
      "[AutoFeatRegression] The 3 step feature engineering process could generate up to 5271 features.\n",
      "[AutoFeatRegression] With 1000 data points this new feature matrix would use about 0.02 gb of space.\n",
      "[feateng] Step 1: transformation of original features\n",
      "[feateng] Generated 17 transformed features from 3 original features - done.\n",
      "[feateng] Step 2: first combination of features\n",
      "[feateng] Generated 749 feature combinations from 190 original feature tuples - done.\n",
      "[feateng] Step 3: transformation of new features\n",
      "[feateng] Generated 3487 transformed features from 749 original features - done.\n",
      "[feateng] Generated a total of 3683 additional features\n",
      "[featsel] Scaling data...done.\n",
      "[featsel] Feature selection run 1/5\n",
      "[featsel] Feature selection run 2/5\n",
      "[featsel] Feature selection run 3/5\n",
      "[featsel] Feature selection run 4/5\n",
      "[featsel] Feature selection run 5/5\n",
      "[featsel] 4 new features selected.\n",
      "[AutoFeatRegression] Computing 3 new features.\n",
      "[AutoFeatRegression]     3/    3 new features ...done.\n",
      "[AutoFeatRegression] Training final regression model.\n",
      "[AutoFeatRegression] Trained model: largest coefficients:\n",
      "2.033420704530897\n",
      "14.965357 * x1\n",
      "4.999713 * (x2 + log(x1))**3\n",
      "-3.000189 * 1/(-x2 + 1/x3)\n",
      "-0.014411 * x3\n",
      "0.004183 * log(x1**3*exp(x2))\n",
      "0.000451 * x2\n",
      "[AutoFeatRegression] Final R^2: 1.0000\n",
      "[AutoFeatRegression] Final dataframe with 6 feature columns (3 new).\n",
      "Final R^2: 1.0000\n"
     ]
    },
    {
     "data": {
      "image/png": "[encoded data removed]",
      "text/plain": [
       "<Figure size 432x288 with 1 Axes>"
      ]
     },
     "metadata": {},
     "output_type": "display_data"
    }
   ],
   "source": [
    "afreg = AutoFeatRegression(verbose=1, feateng_steps=3)\n",
    "# train on noisy data\n",
    "df = afreg.fit_transform(df_org, target_noisy)\n",
    "# test on real targets\n",
    "print(\"Final R^2: %.4f\" % afreg.score(df, target))\n",
    "plt.figure()\n",
    "plt.scatter(afreg.predict(df), target, s=2);"
   ]
  },
  {
   "cell_type": "code",
   "execution_count": null,
   "metadata": {},
   "outputs": [],
   "source": []
  }
 ],
 "metadata": {
  "kernelspec": {
   "display_name": "Python 3",
   "language": "python",
   "name": "python3"
  },
  "language_info": {
   "codemirror_mode": {
    "name": "ipython",
    "version": 3
   },
   "file_extension": ".py",
   "mimetype": "text/x-python",
   "name": "python",
   "nbconvert_exporter": "python",
   "pygments_lexer": "ipython3",
   "version": "3.6.8"
  }
 },
 "nbformat": 4,
 "nbformat_minor": 2
}
