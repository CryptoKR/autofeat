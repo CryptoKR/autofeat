{
 "cells": [
  {
   "cell_type": "code",
   "execution_count": 1,
   "metadata": {},
   "outputs": [],
   "source": [
    "import matplotlib.pyplot as plt\n",
    "import numpy as np\n",
    "import pandas as pd\n",
    "\n",
    "from autofeat import FeatureSelector, AutoFeatRegression\n",
    "\n",
    "%matplotlib inline\n",
    "%load_ext autoreload\n",
    "%autoreload 2"
   ]
  },
  {
   "cell_type": "markdown",
   "metadata": {},
   "source": [
    "## Feature Selection"
   ]
  },
  {
   "cell_type": "code",
   "execution_count": 2,
   "metadata": {},
   "outputs": [
    {
     "name": "stderr",
     "output_type": "stream",
     "text": [
      "/Users/franzi/anaconda/envs/python36/lib/python3.6/site-packages/sklearn/utils/validation.py:761: DataConversionWarning: A column-vector y was passed when a 1d array was expected. Please change the shape of y to (n_samples, ), for example using ravel().\n",
      "  y = column_or_1d(y, warn=True)\n"
     ]
    },
    {
     "name": "stdout",
     "output_type": "stream",
     "text": [
      "[featsel] Scaling data...done.\n",
      "[featsel] Iteration   0;   0 selected features with residual: 64.262748\n",
      "[featsel] Iteration   4;   3 selected features with residual: 0.000005  --> done.\n",
      "[featsel] Iteration   0;   0 selected features with residual: 54.027093\n",
      "[featsel] Iteration   5;   3 selected features with residual: 0.000005  --> done.\n",
      "[featsel] Iteration   0;   0 selected features with residual: 56.530609\n",
      "[featsel] Iteration   4;   3 selected features with residual: 0.000007  --> done.\n",
      "[featsel] Iteration   0;   0 selected features with residual: 65.004308\n",
      "[featsel] Iteration   4;   5 selected features with residual: 0.000010  --> done.\n",
      "[featsel] Iteration   0;   0 selected features with residual: 67.484998\n",
      "[featsel] Iteration   4;   5 selected features with residual: 0.000019  --> done.\n",
      "[featsel] 4 features occurred in more than one featsel run.\n",
      "[featsel] 3 new features selected.\n",
      "Index(['x1', 'eng6', 'eng7'], dtype='object')\n"
     ]
    }
   ],
   "source": [
    "# generate some toy data\n",
    "np.random.seed(15)\n",
    "x1 = np.random.rand(1000)\n",
    "x2 = np.random.randn(1000)\n",
    "x3 = np.random.rand(1000)\n",
    "x4 = np.random.randn(1000)\n",
    "x5 = np.random.rand(1000)\n",
    "target = 2 + 15*x1 + 3/(x2 - 1/x3) + 5*(x2 + np.log(x1))**3\n",
    "X = np.vstack([x1, x2, x3, x4, x5, 1/(x2 - 1/x3), (x2 + np.log(x1))**3]).T\n",
    "fsel = FeatureSelector(verbose=1)\n",
    "new_X = fsel.fit_transform(pd.DataFrame(X, columns=[\"x1\", \"x2\", \"x3\", \"x4\", \"x5\", \"eng6\", \"eng7\"]), pd.DataFrame(target))\n",
    "# should contain [\"x1\", \"eng6\", \"eng7\"]\n",
    "print(new_X.columns)"
   ]
  },
  {
   "cell_type": "markdown",
   "metadata": {},
   "source": [
    "## AutoFeat"
   ]
  },
  {
   "cell_type": "code",
   "execution_count": 3,
   "metadata": {},
   "outputs": [],
   "source": [
    "# generate some toy data\n",
    "np.random.seed(15)\n",
    "x1 = np.random.rand(1000)\n",
    "x2 = np.random.randn(1000)\n",
    "x3 = np.random.rand(1000)\n",
    "target = 2 + 15*x1 + 3/(x2 - 1/x3) + 5*(x2 + np.log(x1))**3\n",
    "target_noisy = target + 0.2*np.random.randn(1000)\n",
    "X = np.vstack([x1, x2, x3]).T\n",
    "df_org = pd.DataFrame(X, columns=[\"x1\", \"x2\", \"x3\"])"
   ]
  },
  {
   "cell_type": "markdown",
   "metadata": {},
   "source": [
    "### Effect of number of feature engineering steps"
   ]
  },
  {
   "cell_type": "code",
   "execution_count": 4,
   "metadata": {},
   "outputs": [
    {
     "name": "stdout",
     "output_type": "stream",
     "text": [
      "### AutoFeat with 0 feateng_steps\n",
      "[AutoFeatRegression] The 0 step feature engineering process could generate up to 3 features.\n",
      "[AutoFeatRegression] With 1000 data points this new feature matrix would use about 0.00 gb of space.\n",
      "[feateng] Warning: no features generated for max_steps < 1.\n",
      "[featsel] Scaling data...done.\n",
      "[featsel] Iteration   0;   0 selected features with residual: 64.262748\n",
      "[featsel] Iteration   3;   2 selected features with residual: 64.975573  --> done.\n",
      "[featsel] Iteration   0;   0 selected features with residual: 54.027093\n",
      "[featsel] Iteration   3;   2 selected features with residual: 58.904837  --> done.\n",
      "[featsel] Iteration   0;   0 selected features with residual: 56.530609\n",
      "[featsel] Iteration   3;   3 selected features with residual: 58.223702  --> done.\n",
      "[featsel] Iteration   0;   0 selected features with residual: 65.004308\n",
      "[featsel] Iteration   3;   3 selected features with residual: 69.966273  --> done.\n",
      "[featsel] Iteration   0;   0 selected features with residual: 67.484998\n",
      "[featsel] Iteration   3;   3 selected features with residual: 69.601610  --> done.\n",
      "[featsel] 3 features occurred in more than one featsel run.\n",
      "[featsel] 2 new features selected.\n",
      "[AutoFeatRegression] Training final regression model.\n",
      "[AutoFeatRegression] Trained model: largest coefficients:\n",
      "-149.8110972151635\n",
      "219.961135 * x1\n",
      "34.719760 * x2\n",
      "[AutoFeatRegression] Final R^2: 0.2133\n",
      "[AutoFeatRegression] Final dataframe with 3 feature columns (0 new).\n",
      "## Final R^2: 0.2133\n",
      "### AutoFeat with 1 feateng_steps\n",
      "[AutoFeatRegression] The 1 step feature engineering process could generate up to 21 features.\n",
      "[AutoFeatRegression] With 1000 data points this new feature matrix would use about 0.00 gb of space.\n",
      "[feateng] Step 1: transformation of original features\n",
      "[feateng] Generated 17 transformed features from 3 original features - done.\n",
      "[feateng] Generated a total of 17 additional features\n",
      "[featsel] Scaling data...done.\n",
      "[featsel] Iteration   0;   0 selected features with residual: 64.262748\n",
      "[featsel] Iteration   4;  16 selected features with residual: 33.962034  --> done.\n",
      "[featsel] Iteration   0;   0 selected features with residual: 54.027093\n",
      "[featsel] Iteration   3;   8 selected features with residual: 31.867527  --> done.\n",
      "[featsel] Iteration   0;   0 selected features with residual: 56.530609\n",
      "[featsel] Iteration   5;  18 selected features with residual: 35.619489  --> done.\n",
      "[featsel] Iteration   0;   0 selected features with residual: 65.004308\n",
      "[featsel] Iteration   3;  14 selected features with residual: 35.383985  --> done.\n",
      "[featsel] Iteration   0;   0 selected features with residual: 67.484998\n",
      "[featsel] Iteration   3;   9 selected features with residual: 37.707085  --> done.\n",
      "[featsel] 17 features occurred in more than one featsel run.\n",
      "[featsel] 17 new features selected.\n",
      "[AutoFeatRegression] Computing 15 new features.\n",
      "[AutoFeatRegression]    15/   15 new features ...done.\n",
      "[AutoFeatRegression] Training final regression model.\n",
      "[AutoFeatRegression] Trained model: largest coefficients:\n",
      "4848.113190410674\n",
      "-9680.088698 * sqrt(x1)\n",
      "8687.883110 * x1\n",
      "-4686.374955 * x1**2\n",
      "2472.178589 * x3\n",
      "-2222.551225 * sqrt(x3)\n",
      "-1749.400344 * x3**2\n",
      "1664.103762 * x1**3\n",
      "832.292745 * log(x1)\n",
      "717.175361 * x3**3\n",
      "139.942259 * log(x3)\n",
      "21.543566 * x2\n",
      "-19.604490 * Abs(x2)\n",
      "-6.238148 * x2**2\n",
      "5.595853 * x2**3\n",
      "1.159210 * exp(x2)\n",
      "1.135955 * 1/x1\n",
      "0.383207 * 1/x3\n",
      "0.003579 * 1/x2\n",
      "[AutoFeatRegression] Final R^2: 0.5554\n",
      "[AutoFeatRegression] Final dataframe with 18 feature columns (15 new).\n",
      "[AutoFeatRegression] Computing 15 new features.\n",
      "[AutoFeatRegression]    15/   15 new features ...done.\n",
      "## Final R^2: 0.5554\n",
      "[AutoFeatRegression] Computing 15 new features.\n",
      "[AutoFeatRegression]    15/   15 new features ...done.\n",
      "### AutoFeat with 2 feateng_steps\n",
      "[AutoFeatRegression] The 2 step feature engineering process could generate up to 231 features.\n",
      "[AutoFeatRegression] With 1000 data points this new feature matrix would use about 0.00 gb of space.\n",
      "[feateng] Step 1: transformation of original features\n",
      "[feateng] Generated 17 transformed features from 3 original features - done.\n",
      "[feateng] Step 2: first combination of features\n",
      "[feateng] Generated 749 feature combinations from 190 original feature tuples - done.\n",
      "[feateng] Generated a total of 196 additional features\n",
      "[featsel] Scaling data...done.\n",
      "[featsel] Iteration   0;   0 selected features with residual: 64.262748\n",
      "[featsel] Iteration   6;  56 selected features with residual: 15.934489  --> done.\n",
      "[featsel] Iteration   0;   0 selected features with residual: 54.027093\n",
      "[featsel] Iteration   3;   9 selected features with residual: 17.897927  --> done.\n",
      "[featsel] Iteration   0;   0 selected features with residual: 56.530609\n",
      "[featsel] Iteration   3;  13 selected features with residual: 15.451234  --> done.\n",
      "[featsel] Iteration   0;   0 selected features with residual: 65.004308\n",
      "[featsel] Iteration   4;  38 selected features with residual: 13.358318  --> done.\n",
      "[featsel] Iteration   0;   0 selected features with residual: 67.484998\n",
      "[featsel] Iteration   3;   5 selected features with residual: 26.683121  --> done.\n",
      "[featsel] 31 features occurred in more than one featsel run.\n",
      "[featsel] 22 new features selected.\n",
      "[AutoFeatRegression] Computing 21 new features.\n",
      "[AutoFeatRegression]    21/   21 new features ...done.\n",
      "[AutoFeatRegression] Training final regression model.\n",
      "[AutoFeatRegression] Trained model: largest coefficients:\n",
      "59.04439606723938\n",
      "-57.842602 * x1*log(x1)\n",
      "-43.291130 * 1/sqrt(x1)\n",
      "35.554264 * x1**3*log(x1)\n",
      "-29.914124 * x2*log(x1)\n",
      "-13.834161 * x2*x3**2\n",
      "-11.588264 * x1**3*x3**3\n",
      "9.790988 * x3**3*log(x3)\n",
      "9.008053 * x2**2*log(x1)\n",
      "-6.466128 * x2\n",
      "4.958051 * x1**3*exp(x2)\n",
      "-4.727992 * exp(x3)*Abs(x2)\n",
      "3.629116 * log(x1)*Abs(x2)\n",
      "-2.760619 * x3**2*Abs(x2)\n",
      "1.336320 * x2/x1\n",
      "1.284425 * x2**3*Abs(x2)\n",
      "-1.273328 * x2**3*log(x1)\n",
      "-1.006410 * Abs(x2)/x2\n",
      "-0.489087 * Abs(x2)/x1\n",
      "-0.310537 * exp(x3)/x1\n",
      "-0.074505 * x2**2/x1\n",
      "-0.011097 * 1/(x1*x3)\n",
      "[AutoFeatRegression] Final R^2: 0.6663\n",
      "[AutoFeatRegression] Final dataframe with 24 feature columns (21 new).\n",
      "[AutoFeatRegression] Computing 21 new features.\n",
      "[AutoFeatRegression]    21/   21 new features ...done.\n",
      "## Final R^2: 0.6663\n",
      "[AutoFeatRegression] Computing 21 new features.\n",
      "[AutoFeatRegression]    21/   21 new features ...done.\n",
      "### AutoFeat with 3 feateng_steps\n",
      "[AutoFeatRegression] The 3 step feature engineering process could generate up to 5271 features.\n",
      "[AutoFeatRegression] With 1000 data points this new feature matrix would use about 0.02 gb of space.\n",
      "[feateng] Step 1: transformation of original features\n",
      "[feateng] Generated 17 transformed features from 3 original features - done.\n",
      "[feateng] Step 2: first combination of features\n",
      "[feateng] Generated 749 feature combinations from 190 original feature tuples - done.\n",
      "[feateng] Step 3: transformation of new features\n",
      "[feateng] Generated 3487 transformed features from 749 original features - done.\n",
      "[feateng] Generated a total of 3683 additional features\n",
      "[featsel] Scaling data...done.\n",
      "[featsel] Iteration   0;   0 selected features with residual: 64.262748\n",
      "[featsel] Iteration   4;   2 selected features with residual: 33.271762  --> done.\n",
      "[featsel] Iteration   0;   0 selected features with residual: 54.027093\n",
      "[featsel] Iteration  10;  13 selected features with residual: 3.691348\n",
      "[featsel] Iteration  20;  12 selected features with residual: 3.811640\n",
      "[featsel] Iteration  27;   6 selected features with residual: 2.365542  --> done.\n",
      "[featsel] Iteration   0;   0 selected features with residual: 56.530609\n",
      "[featsel] Iteration  10;   5 selected features with residual: 1.723565\n",
      "[featsel] Iteration  20;   8 selected features with residual: 1.730071\n",
      "[featsel] Iteration  26;   8 selected features with residual: 0.010343  --> done.\n",
      "[featsel] Iteration   0;   0 selected features with residual: 65.004308\n",
      "[featsel] Iteration  10;   5 selected features with residual: 2.903503\n",
      "[featsel] Iteration  16;  15 selected features with residual: 0.004038  --> done.\n",
      "[featsel] Iteration   0;   0 selected features with residual: 67.484998\n",
      "[featsel] Iteration  10;  41 selected features with residual: 20.886374\n",
      "[featsel] Iteration  20;  13 selected features with residual: 4.867918\n",
      "[featsel] Iteration  30;  23 selected features with residual: 19.097841\n"
     ]
    },
    {
     "name": "stdout",
     "output_type": "stream",
     "text": [
      "[featsel] Iteration  40;  23 selected features with residual: 19.094236\n",
      "[featsel] Iteration  41;   8 selected features with residual: 0.002308  --> done.\n",
      "[featsel] 5 features occurred in more than one featsel run.\n",
      "[featsel] 4 new features selected.\n",
      "[AutoFeatRegression] Computing 4 new features.\n",
      "[AutoFeatRegression]     4/    4 new features ...done.\n",
      "[AutoFeatRegression] Training final regression model.\n",
      "[AutoFeatRegression] Trained model: largest coefficients:\n",
      "2.000000000003631\n",
      "15.000000 * x1\n",
      "5.000000 * (x2 + log(x1))**3\n",
      "3.000000 * 1/(x2 - 1/x3)\n",
      "[AutoFeatRegression] Final R^2: 1.0000\n",
      "[AutoFeatRegression] Final dataframe with 7 feature columns (4 new).\n",
      "[AutoFeatRegression] Computing 4 new features.\n",
      "[AutoFeatRegression]     4/    4 new features ...done.\n",
      "## Final R^2: 1.0000\n",
      "[AutoFeatRegression] Computing 4 new features.\n",
      "[AutoFeatRegression]     4/    4 new features ...done.\n",
      "### AutoFeat with 4 feateng_steps\n",
      "[AutoFeatRegression] The 4 step feature engineering process could generate up to 128751 features.\n",
      "[AutoFeatRegression] With 1000 data points this new feature matrix would use about 0.52 gb of space.\n",
      "[feateng] Step 1: transformation of original features\n",
      "[feateng] Generated 17 transformed features from 3 original features - done.\n",
      "[feateng] Step 2: first combination of features\n",
      "[feateng] Generated 749 feature combinations from 190 original feature tuples - done.\n",
      "[feateng] Step 3: transformation of new features\n",
      "[feateng] Generated 3487 transformed features from 749 original features - done.\n",
      "[feateng] Step 4: combination of old and new features\n",
      "[feateng] Generated 308647 feature combinations from 84720 original feature tuples - done.\n",
      "[feateng] Generated a total of 83310 additional features\n",
      "[featsel] Scaling data...done.\n",
      "[featsel] Iteration   0;   0 selected features with residual: 64.262748\n",
      "[featsel] Iteration  10;  14 selected features with residual: 17.456327\n",
      "[featsel] Iteration  20;   6 selected features with residual: 18.838946\n",
      "[featsel] Iteration  30;  15 selected features with residual: 0.809647\n",
      "[featsel] Iteration  40;  10 selected features with residual: 15.727072\n",
      "[featsel] Iteration  50;  10 selected features with residual: 13.123429\n",
      "[featsel] Iteration  60;   9 selected features with residual: 15.704222\n",
      "[featsel] Iteration  70;   6 selected features with residual: 31.732989\n",
      "[featsel] Iteration  80;  28 selected features with residual: 0.036152\n",
      "[featsel] Iteration  90;   8 selected features with residual: 35.556536\n",
      "[featsel] Iteration 100;  21 selected features with residual: 0.012978  --> done.\n",
      "[featsel] Iteration   0;   0 selected features with residual: 54.027093\n",
      "[featsel] Iteration  10;  31 selected features with residual: 0.015897\n",
      "[featsel] Iteration  20;   3 selected features with residual: 18.925454\n",
      "[featsel] Iteration  30;  15 selected features with residual: 2.619065\n",
      "[featsel] Iteration  40;  44 selected features with residual: 4.002956\n",
      "[featsel] Iteration  50;  10 selected features with residual: 0.066578\n",
      "[featsel] Iteration  57;  27 selected features with residual: 0.012814  --> done.\n",
      "[featsel] Iteration   0;   0 selected features with residual: 56.530609\n",
      "[featsel] Iteration   5;   6 selected features with residual: 5.898211  --> done.\n",
      "[featsel] Iteration   0;   0 selected features with residual: 65.004308\n",
      "[featsel] Iteration  10;  34 selected features with residual: 0.016119\n",
      "[featsel] Iteration  20;   3 selected features with residual: 35.874847\n",
      "[featsel] Iteration  30;   3 selected features with residual: 33.208452\n",
      "[featsel] Iteration  32;  38 selected features with residual: 0.014820  --> done.\n",
      "[featsel] Iteration   0;   0 selected features with residual: 67.484998\n",
      "[featsel] Iteration   5;  17 selected features with residual: 6.010572  --> done.\n",
      "[featsel] 7 features occurred in more than one featsel run.\n",
      "[featsel] 6 new features selected.\n",
      "[AutoFeatRegression] Computing 6 new features.\n",
      "[AutoFeatRegression]     6/    6 new features ...done.\n",
      "[AutoFeatRegression] Training final regression model.\n",
      "[AutoFeatRegression] Trained model: largest coefficients:\n",
      "2.000000000256996\n",
      "15.000000 * x1\n",
      "5.000000 * (x2 + log(x1))**3\n",
      "-3.000000 * 1/(-x2 + 1/x3)\n",
      "[AutoFeatRegression] Final R^2: 1.0000\n",
      "[AutoFeatRegression] Final dataframe with 9 feature columns (6 new).\n",
      "[AutoFeatRegression] Computing 6 new features.\n",
      "[AutoFeatRegression]     6/    6 new features ...done.\n",
      "## Final R^2: 1.0000\n",
      "[AutoFeatRegression] Computing 6 new features.\n",
      "[AutoFeatRegression]     6/    6 new features ...done.\n"
     ]
    },
    {
     "data": {
      "image/png": "[encoded data removed]",
      "text/plain": [
       "<Figure size 432x288 with 1 Axes>"
      ]
     },
     "metadata": {},
     "output_type": "display_data"
    },
    {
     "data": {
      "image/png": "[encoded data removed]",
      "text/plain": [
       "<Figure size 432x288 with 1 Axes>"
      ]
     },
     "metadata": {},
     "output_type": "display_data"
    },
    {
     "data": {
      "image/png": "[encoded data removed]",
      "text/plain": [
       "<Figure size 432x288 with 1 Axes>"
      ]
     },
     "metadata": {},
     "output_type": "display_data"
    },
    {
     "data": {
      "image/png": "[encoded data removed]",
      "text/plain": [
       "<Figure size 432x288 with 1 Axes>"
      ]
     },
     "metadata": {},
     "output_type": "display_data"
    },
    {
     "data": {
      "image/png": "[encoded data removed]",
      "text/plain": [
       "<Figure size 432x288 with 1 Axes>"
      ]
     },
     "metadata": {},
     "output_type": "display_data"
    }
   ],
   "source": [
    "# autofeat with different number of feature engineering steps\n",
    "# 3 are perfect\n",
    "for steps in range(5):\n",
    "    print(\"### AutoFeat with %i feateng_steps\" % steps)\n",
    "    afreg = AutoFeatRegression(verbose=1, feateng_steps=steps)\n",
    "    df = afreg.fit_transform(df_org, target)\n",
    "    r2 = afreg.score(df_org, target)\n",
    "    print(\"## Final R^2: %.4f\" % r2)\n",
    "    plt.figure()\n",
    "    plt.scatter(afreg.predict(df_org), target, s=2);\n",
    "    plt.title(\"%i feateng steps (R^2: %.4f)\" % (steps, r2))"
   ]
  },
  {
   "cell_type": "markdown",
   "metadata": {},
   "source": [
    "### AutoFeat and noise"
   ]
  },
  {
   "cell_type": "code",
   "execution_count": 5,
   "metadata": {},
   "outputs": [
    {
     "name": "stdout",
     "output_type": "stream",
     "text": [
      "[AutoFeatRegression] The 3 step feature engineering process could generate up to 5271 features.\n",
      "[AutoFeatRegression] With 1000 data points this new feature matrix would use about 0.02 gb of space.\n",
      "[feateng] Step 1: transformation of original features\n",
      "[feateng] Generated 17 transformed features from 3 original features - done.\n",
      "[feateng] Step 2: first combination of features\n",
      "[feateng] Generated 749 feature combinations from 190 original feature tuples - done.\n",
      "[feateng] Step 3: transformation of new features\n",
      "[feateng] Generated 3487 transformed features from 749 original features - done.\n",
      "[feateng] Generated a total of 3683 additional features\n",
      "[featsel] Scaling data...done.\n",
      "[featsel] Iteration   0;   0 selected features with residual: 64.260372\n",
      "[featsel] Iteration   4;   2 selected features with residual: 33.265346  --> done.\n",
      "[featsel] Iteration   0;   0 selected features with residual: 54.013145\n",
      "[featsel] Iteration   8;   8 selected features with residual: 2.174065  --> done.\n",
      "[featsel] Iteration   0;   0 selected features with residual: 56.528799\n",
      "[featsel] Iteration  10;  11 selected features with residual: 4.966749\n",
      "[featsel] Iteration  20;  12 selected features with residual: 1.134261  --> done.\n",
      "[featsel] Iteration   0;   0 selected features with residual: 65.030955\n",
      "[featsel] Iteration  10;   6 selected features with residual: 0.365239\n",
      "[featsel] Iteration  11;  10 selected features with residual: 0.275679  --> done.\n",
      "[featsel] Iteration   0;   0 selected features with residual: 67.499725\n",
      "[featsel] Iteration  10;  23 selected features with residual: 13.306503\n",
      "[featsel] Iteration  20;   9 selected features with residual: 8.830577\n",
      "[featsel] Iteration  30;   4 selected features with residual: 4.037212\n",
      "[featsel] Iteration  32;  43 selected features with residual: 0.152125  --> done.\n",
      "[featsel] 9 features occurred in more than one featsel run.\n",
      "[featsel] 5 new features selected.\n",
      "[AutoFeatRegression] Computing 5 new features.\n",
      "[AutoFeatRegression]     5/    5 new features ...done.\n",
      "[AutoFeatRegression] Training final regression model.\n",
      "[AutoFeatRegression] Trained model: largest coefficients:\n",
      "1.9665458282121193\n",
      "14.916272 * x1\n",
      "5.000223 * (x2 + log(x1))**3\n",
      "2.998875 * 1/(x2 - 1/x3)\n",
      "0.035394 * (x1**3 - exp(x1))**2\n",
      "-0.003095 * x3\n",
      "-0.001203 * (exp(x3) + log(x1))**3\n",
      "-0.000820 * 1/(-x3 + 1/x2)\n",
      "[AutoFeatRegression] Final R^2: 1.0000\n",
      "[AutoFeatRegression] Final dataframe with 8 feature columns (5 new).\n",
      "Final R^2: 1.0000\n"
     ]
    },
    {
     "data": {
      "image/png": "[encoded data removed]",
      "text/plain": [
       "<Figure size 432x288 with 1 Axes>"
      ]
     },
     "metadata": {},
     "output_type": "display_data"
    }
   ],
   "source": [
    "afreg = AutoFeatRegression(verbose=1)\n",
    "# train on noisy data\n",
    "df = afreg.fit_transform(df_org, target_noisy)\n",
    "# test on real targets\n",
    "print(\"Final R^2: %.4f\" % afreg.score(df, target))\n",
    "plt.figure()\n",
    "plt.scatter(afreg.predict(df), target, s=2);"
   ]
  },
  {
   "cell_type": "code",
   "execution_count": null,
   "metadata": {},
   "outputs": [],
   "source": []
  }
 ],
 "metadata": {
  "kernelspec": {
   "display_name": "Python 3",
   "language": "python",
   "name": "python3"
  },
  "language_info": {
   "codemirror_mode": {
    "name": "ipython",
    "version": 3
   },
   "file_extension": ".py",
   "mimetype": "text/x-python",
   "name": "python",
   "nbconvert_exporter": "python",
   "pygments_lexer": "ipython3",
   "version": "3.6.8"
  }
 },
 "nbformat": 4,
 "nbformat_minor": 2
}
